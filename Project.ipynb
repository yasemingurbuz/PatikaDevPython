{
 "cells": [
  {
   "cell_type": "code",
   "execution_count": 1,
   "id": "9284211b",
   "metadata": {},
   "outputs": [
    {
     "name": "stdout",
     "output_type": "stream",
     "text": [
      "[1, 'a', 'cat', 2, 3, 'dog', 4, 5]\n",
      "[5, 4, [[[3]], 'dog'], [1, 'a', ['cat'], 2]]\n"
     ]
    }
   ],
   "source": [
    "def flatten(l):\n",
    "    return flatten(l[0]) + (flatten(l[1:]) if len(l) > 1 else []) if type(l) is list else [l]\n",
    "\n",
    "# Second question's of project\n",
    "def reverseList(l):\n",
    "    newl = l[::-1]\n",
    "    return newl\n",
    "\n",
    "\n",
    "if __name__ == '__main__':\n",
    "    liste = [[1, 'a', ['cat'], 2], [[[3]], 'dog'], 4, 5]\n",
    "    result1 = flatten(liste)\n",
    "    result2 = reverseList(liste)\n",
    "    print(result1)\n",
    "    print(result2)"
   ]
  },
  {
   "cell_type": "code",
   "execution_count": null,
   "id": "36d507c0",
   "metadata": {},
   "outputs": [],
   "source": []
  }
 ],
 "metadata": {
  "kernelspec": {
   "display_name": "Python 3 (ipykernel)",
   "language": "python",
   "name": "python3"
  },
  "language_info": {
   "codemirror_mode": {
    "name": "ipython",
    "version": 3
   },
   "file_extension": ".py",
   "mimetype": "text/x-python",
   "name": "python",
   "nbconvert_exporter": "python",
   "pygments_lexer": "ipython3",
   "version": "3.9.7"
  }
 },
 "nbformat": 4,
 "nbformat_minor": 5
}
